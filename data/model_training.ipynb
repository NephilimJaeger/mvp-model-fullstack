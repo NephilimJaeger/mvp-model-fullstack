{
 "cells": [
  {
   "cell_type": "markdown",
   "metadata": {},
   "source": [
    "# MVP - Pós Graduação em Engenharia de Software (PUC Rio)\n",
    "# Sprint Qualidade de Software, Segurança e Sistemas Inteligentes\n",
    "\n",
    "O objetivo desse notebook é explorar os dados de uma base da Nasa para classificar se um objeto em órbita da terra pode vir a causar uma catástrofe global.\n",
    "\n",
    "Colunas do dataset:\n",
    "\n",
    "- id: identificador único do asteróide\n",
    "- name: nome dado pela Nasa\n",
    "- est_diameter_min: Diâmetro mínimo estimado em km\n",
    "- est_diameter_max: Diâmetro máximo estimado em km\n",
    "- relative_velocity: Velocidade Relativa da Terra, em km/h\n",
    "- miss_distance: Distância que o asteróide passou da terra, em km\n",
    "\n"
   ]
  },
  {
   "cell_type": "code",
   "execution_count": 1,
   "metadata": {},
   "outputs": [],
   "source": [
    "import warnings\n",
    "warnings.filterwarnings(\"ignore\")\n",
    "\n",
    "import matplotlib.pyplot as plt\n",
    "import pandas as pd\n",
    "import seaborn as sns\n",
    "import numpy as np\n",
    "from sklearn.model_selection import train_test_split\n",
    "from sklearn.preprocessing import StandardScaler, MinMaxScaler\n",
    "from sklearn.model_selection import cross_val_score\n",
    "from sklearn.model_selection import GridSearchCV\n",
    "from sklearn.tree import DecisionTreeClassifier\n",
    "from sklearn.neighbors import KNeighborsClassifier\n",
    "from sklearn.naive_bayes import GaussianNB\n",
    "from sklearn.svm import SVC\n",
    "from sklearn.model_selection import StratifiedKFold\n",
    "from sklearn.pipeline import Pipeline"
   ]
  },
  {
   "cell_type": "markdown",
   "metadata": {},
   "source": [
    "## Explorando os dados"
   ]
  },
  {
   "cell_type": "markdown",
   "metadata": {},
   "source": [
    "Carga"
   ]
  },
  {
   "cell_type": "code",
   "execution_count": 2,
   "metadata": {},
   "outputs": [
    {
     "data": {
      "text/html": [
       "<div>\n",
       "<style scoped>\n",
       "    .dataframe tbody tr th:only-of-type {\n",
       "        vertical-align: middle;\n",
       "    }\n",
       "\n",
       "    .dataframe tbody tr th {\n",
       "        vertical-align: top;\n",
       "    }\n",
       "\n",
       "    .dataframe thead th {\n",
       "        text-align: right;\n",
       "    }\n",
       "</style>\n",
       "<table border=\"1\" class=\"dataframe\">\n",
       "  <thead>\n",
       "    <tr style=\"text-align: right;\">\n",
       "      <th></th>\n",
       "      <th>id</th>\n",
       "      <th>name</th>\n",
       "      <th>est_diameter_min</th>\n",
       "      <th>est_diameter_max</th>\n",
       "      <th>relative_velocity</th>\n",
       "      <th>miss_distance</th>\n",
       "      <th>orbiting_body</th>\n",
       "      <th>sentry_object</th>\n",
       "      <th>absolute_magnitude</th>\n",
       "      <th>hazardous</th>\n",
       "    </tr>\n",
       "  </thead>\n",
       "  <tbody>\n",
       "    <tr>\n",
       "      <th>0</th>\n",
       "      <td>2162635</td>\n",
       "      <td>162635 (2000 SS164)</td>\n",
       "      <td>1.198271</td>\n",
       "      <td>2.679415</td>\n",
       "      <td>13569.249224</td>\n",
       "      <td>5.483974e+07</td>\n",
       "      <td>Earth</td>\n",
       "      <td>False</td>\n",
       "      <td>16.73</td>\n",
       "      <td>False</td>\n",
       "    </tr>\n",
       "    <tr>\n",
       "      <th>1</th>\n",
       "      <td>2277475</td>\n",
       "      <td>277475 (2005 WK4)</td>\n",
       "      <td>0.265800</td>\n",
       "      <td>0.594347</td>\n",
       "      <td>73588.726663</td>\n",
       "      <td>6.143813e+07</td>\n",
       "      <td>Earth</td>\n",
       "      <td>False</td>\n",
       "      <td>20.00</td>\n",
       "      <td>True</td>\n",
       "    </tr>\n",
       "    <tr>\n",
       "      <th>2</th>\n",
       "      <td>2512244</td>\n",
       "      <td>512244 (2015 YE18)</td>\n",
       "      <td>0.722030</td>\n",
       "      <td>1.614507</td>\n",
       "      <td>114258.692129</td>\n",
       "      <td>4.979872e+07</td>\n",
       "      <td>Earth</td>\n",
       "      <td>False</td>\n",
       "      <td>17.83</td>\n",
       "      <td>False</td>\n",
       "    </tr>\n",
       "    <tr>\n",
       "      <th>3</th>\n",
       "      <td>3596030</td>\n",
       "      <td>(2012 BV13)</td>\n",
       "      <td>0.096506</td>\n",
       "      <td>0.215794</td>\n",
       "      <td>24764.303138</td>\n",
       "      <td>2.543497e+07</td>\n",
       "      <td>Earth</td>\n",
       "      <td>False</td>\n",
       "      <td>22.20</td>\n",
       "      <td>False</td>\n",
       "    </tr>\n",
       "    <tr>\n",
       "      <th>4</th>\n",
       "      <td>3667127</td>\n",
       "      <td>(2014 GE35)</td>\n",
       "      <td>0.255009</td>\n",
       "      <td>0.570217</td>\n",
       "      <td>42737.733765</td>\n",
       "      <td>4.627557e+07</td>\n",
       "      <td>Earth</td>\n",
       "      <td>False</td>\n",
       "      <td>20.09</td>\n",
       "      <td>True</td>\n",
       "    </tr>\n",
       "  </tbody>\n",
       "</table>\n",
       "</div>"
      ],
      "text/plain": [
       "        id                 name  est_diameter_min  est_diameter_max  \\\n",
       "0  2162635  162635 (2000 SS164)          1.198271          2.679415   \n",
       "1  2277475    277475 (2005 WK4)          0.265800          0.594347   \n",
       "2  2512244   512244 (2015 YE18)          0.722030          1.614507   \n",
       "3  3596030          (2012 BV13)          0.096506          0.215794   \n",
       "4  3667127          (2014 GE35)          0.255009          0.570217   \n",
       "\n",
       "   relative_velocity  miss_distance orbiting_body  sentry_object  \\\n",
       "0       13569.249224   5.483974e+07         Earth          False   \n",
       "1       73588.726663   6.143813e+07         Earth          False   \n",
       "2      114258.692129   4.979872e+07         Earth          False   \n",
       "3       24764.303138   2.543497e+07         Earth          False   \n",
       "4       42737.733765   4.627557e+07         Earth          False   \n",
       "\n",
       "   absolute_magnitude  hazardous  \n",
       "0               16.73      False  \n",
       "1               20.00       True  \n",
       "2               17.83      False  \n",
       "3               22.20      False  \n",
       "4               20.09       True  "
      ]
     },
     "execution_count": 2,
     "metadata": {},
     "output_type": "execute_result"
    }
   ],
   "source": [
    "url = \"https://media.githubusercontent.com/media/NephilimJaeger/mvp-model-fullstack/refs/heads/main/data/neo.csv\"\n",
    "df = pd.read_csv(url, delimiter=',')\n",
    "df.head()"
   ]
  },
  {
   "cell_type": "code",
   "execution_count": 3,
   "metadata": {},
   "outputs": [
    {
     "name": "stdout",
     "output_type": "stream",
     "text": [
      "<class 'pandas.core.frame.DataFrame'>\n",
      "RangeIndex: 90836 entries, 0 to 90835\n",
      "Data columns (total 10 columns):\n",
      " #   Column              Non-Null Count  Dtype  \n",
      "---  ------              --------------  -----  \n",
      " 0   id                  90836 non-null  int64  \n",
      " 1   name                90836 non-null  object \n",
      " 2   est_diameter_min    90836 non-null  float64\n",
      " 3   est_diameter_max    90836 non-null  float64\n",
      " 4   relative_velocity   90836 non-null  float64\n",
      " 5   miss_distance       90836 non-null  float64\n",
      " 6   orbiting_body       90836 non-null  object \n",
      " 7   sentry_object       90836 non-null  bool   \n",
      " 8   absolute_magnitude  90836 non-null  float64\n",
      " 9   hazardous           90836 non-null  bool   \n",
      "dtypes: bool(2), float64(5), int64(1), object(2)\n",
      "memory usage: 5.7+ MB\n"
     ]
    }
   ],
   "source": [
    "#Tipos dos dados, quantidade de linhas, quantidade de colunas e quantidade de dados não nulos por coluna\n",
    "df.info()"
   ]
  },
  {
   "cell_type": "code",
   "execution_count": 4,
   "metadata": {},
   "outputs": [
    {
     "data": {
      "text/html": [
       "<div>\n",
       "<style scoped>\n",
       "    .dataframe tbody tr th:only-of-type {\n",
       "        vertical-align: middle;\n",
       "    }\n",
       "\n",
       "    .dataframe tbody tr th {\n",
       "        vertical-align: top;\n",
       "    }\n",
       "\n",
       "    .dataframe thead th {\n",
       "        text-align: right;\n",
       "    }\n",
       "</style>\n",
       "<table border=\"1\" class=\"dataframe\">\n",
       "  <thead>\n",
       "    <tr style=\"text-align: right;\">\n",
       "      <th></th>\n",
       "      <th>Missing Values</th>\n",
       "    </tr>\n",
       "  </thead>\n",
       "  <tbody>\n",
       "    <tr>\n",
       "      <th>id</th>\n",
       "      <td>0</td>\n",
       "    </tr>\n",
       "    <tr>\n",
       "      <th>name</th>\n",
       "      <td>0</td>\n",
       "    </tr>\n",
       "    <tr>\n",
       "      <th>est_diameter_min</th>\n",
       "      <td>0</td>\n",
       "    </tr>\n",
       "    <tr>\n",
       "      <th>est_diameter_max</th>\n",
       "      <td>0</td>\n",
       "    </tr>\n",
       "    <tr>\n",
       "      <th>relative_velocity</th>\n",
       "      <td>0</td>\n",
       "    </tr>\n",
       "    <tr>\n",
       "      <th>miss_distance</th>\n",
       "      <td>0</td>\n",
       "    </tr>\n",
       "    <tr>\n",
       "      <th>orbiting_body</th>\n",
       "      <td>0</td>\n",
       "    </tr>\n",
       "    <tr>\n",
       "      <th>sentry_object</th>\n",
       "      <td>0</td>\n",
       "    </tr>\n",
       "    <tr>\n",
       "      <th>absolute_magnitude</th>\n",
       "      <td>0</td>\n",
       "    </tr>\n",
       "    <tr>\n",
       "      <th>hazardous</th>\n",
       "      <td>0</td>\n",
       "    </tr>\n",
       "  </tbody>\n",
       "</table>\n",
       "</div>"
      ],
      "text/plain": [
       "                    Missing Values\n",
       "id                               0\n",
       "name                             0\n",
       "est_diameter_min                 0\n",
       "est_diameter_max                 0\n",
       "relative_velocity                0\n",
       "miss_distance                    0\n",
       "orbiting_body                    0\n",
       "sentry_object                    0\n",
       "absolute_magnitude               0\n",
       "hazardous                        0"
      ]
     },
     "execution_count": 4,
     "metadata": {},
     "output_type": "execute_result"
    }
   ],
   "source": [
    "#Checando a quantidade de dados nulos\n",
    "null_qnty = df.isnull().sum().to_frame('Missing Values')\n",
    "null_qnty"
   ]
  },
  {
   "cell_type": "code",
   "execution_count": 5,
   "metadata": {},
   "outputs": [
    {
     "name": "stdout",
     "output_type": "stream",
     "text": [
      "False\n"
     ]
    }
   ],
   "source": [
    "# Procurando por dados duplicados\n",
    "has_duplicates = df.duplicated().any()\n",
    "print(has_duplicates)"
   ]
  },
  {
   "cell_type": "code",
   "execution_count": 6,
   "metadata": {},
   "outputs": [
    {
     "data": {
      "text/html": [
       "<div>\n",
       "<style scoped>\n",
       "    .dataframe tbody tr th:only-of-type {\n",
       "        vertical-align: middle;\n",
       "    }\n",
       "\n",
       "    .dataframe tbody tr th {\n",
       "        vertical-align: top;\n",
       "    }\n",
       "\n",
       "    .dataframe thead th {\n",
       "        text-align: right;\n",
       "    }\n",
       "</style>\n",
       "<table border=\"1\" class=\"dataframe\">\n",
       "  <thead>\n",
       "    <tr style=\"text-align: right;\">\n",
       "      <th></th>\n",
       "      <th>id</th>\n",
       "      <th>est_diameter_min</th>\n",
       "      <th>est_diameter_max</th>\n",
       "      <th>relative_velocity</th>\n",
       "      <th>miss_distance</th>\n",
       "      <th>absolute_magnitude</th>\n",
       "    </tr>\n",
       "  </thead>\n",
       "  <tbody>\n",
       "    <tr>\n",
       "      <th>count</th>\n",
       "      <td>9.083600e+04</td>\n",
       "      <td>90836.000000</td>\n",
       "      <td>90836.000000</td>\n",
       "      <td>90836.000000</td>\n",
       "      <td>9.083600e+04</td>\n",
       "      <td>90836.000000</td>\n",
       "    </tr>\n",
       "    <tr>\n",
       "      <th>mean</th>\n",
       "      <td>1.438288e+07</td>\n",
       "      <td>0.127432</td>\n",
       "      <td>0.284947</td>\n",
       "      <td>48066.918918</td>\n",
       "      <td>3.706655e+07</td>\n",
       "      <td>23.527103</td>\n",
       "    </tr>\n",
       "    <tr>\n",
       "      <th>std</th>\n",
       "      <td>2.087202e+07</td>\n",
       "      <td>0.298511</td>\n",
       "      <td>0.667491</td>\n",
       "      <td>25293.296961</td>\n",
       "      <td>2.235204e+07</td>\n",
       "      <td>2.894086</td>\n",
       "    </tr>\n",
       "    <tr>\n",
       "      <th>min</th>\n",
       "      <td>2.000433e+06</td>\n",
       "      <td>0.000609</td>\n",
       "      <td>0.001362</td>\n",
       "      <td>203.346433</td>\n",
       "      <td>6.745533e+03</td>\n",
       "      <td>9.230000</td>\n",
       "    </tr>\n",
       "    <tr>\n",
       "      <th>25%</th>\n",
       "      <td>3.448110e+06</td>\n",
       "      <td>0.019256</td>\n",
       "      <td>0.043057</td>\n",
       "      <td>28619.020645</td>\n",
       "      <td>1.721082e+07</td>\n",
       "      <td>21.340000</td>\n",
       "    </tr>\n",
       "    <tr>\n",
       "      <th>50%</th>\n",
       "      <td>3.748362e+06</td>\n",
       "      <td>0.048368</td>\n",
       "      <td>0.108153</td>\n",
       "      <td>44190.117890</td>\n",
       "      <td>3.784658e+07</td>\n",
       "      <td>23.700000</td>\n",
       "    </tr>\n",
       "    <tr>\n",
       "      <th>75%</th>\n",
       "      <td>3.884023e+06</td>\n",
       "      <td>0.143402</td>\n",
       "      <td>0.320656</td>\n",
       "      <td>62923.604633</td>\n",
       "      <td>5.654900e+07</td>\n",
       "      <td>25.700000</td>\n",
       "    </tr>\n",
       "    <tr>\n",
       "      <th>max</th>\n",
       "      <td>5.427591e+07</td>\n",
       "      <td>37.892650</td>\n",
       "      <td>84.730541</td>\n",
       "      <td>236990.128088</td>\n",
       "      <td>7.479865e+07</td>\n",
       "      <td>33.200000</td>\n",
       "    </tr>\n",
       "  </tbody>\n",
       "</table>\n",
       "</div>"
      ],
      "text/plain": [
       "                 id  est_diameter_min  est_diameter_max  relative_velocity  \\\n",
       "count  9.083600e+04      90836.000000      90836.000000       90836.000000   \n",
       "mean   1.438288e+07          0.127432          0.284947       48066.918918   \n",
       "std    2.087202e+07          0.298511          0.667491       25293.296961   \n",
       "min    2.000433e+06          0.000609          0.001362         203.346433   \n",
       "25%    3.448110e+06          0.019256          0.043057       28619.020645   \n",
       "50%    3.748362e+06          0.048368          0.108153       44190.117890   \n",
       "75%    3.884023e+06          0.143402          0.320656       62923.604633   \n",
       "max    5.427591e+07         37.892650         84.730541      236990.128088   \n",
       "\n",
       "       miss_distance  absolute_magnitude  \n",
       "count   9.083600e+04        90836.000000  \n",
       "mean    3.706655e+07           23.527103  \n",
       "std     2.235204e+07            2.894086  \n",
       "min     6.745533e+03            9.230000  \n",
       "25%     1.721082e+07           21.340000  \n",
       "50%     3.784658e+07           23.700000  \n",
       "75%     5.654900e+07           25.700000  \n",
       "max     7.479865e+07           33.200000  "
      ]
     },
     "execution_count": 6,
     "metadata": {},
     "output_type": "execute_result"
    }
   ],
   "source": [
    "#Estatísticas básicas sobre os dados\n",
    "df.describe()"
   ]
  },
  {
   "cell_type": "markdown",
   "metadata": {},
   "source": [
    "É possível notar valores altos de desvio padrão, indicando que os objetos presentes no conjunto de dados tem uma variedade muito grande em termos de tamanho, velocidade e distância que passam da Terra. Muito provavelmente essas colunas apresentam outliers que pode interferir no resultado do modelo."
   ]
  },
  {
   "cell_type": "markdown",
   "metadata": {},
   "source": [
    "## Limpeza e preparação"
   ]
  },
  {
   "cell_type": "code",
   "execution_count": 7,
   "metadata": {},
   "outputs": [],
   "source": [
    "# Excluindo colunas irrelevantes para o treinamento do modelo\n",
    "df = df.drop([\"id\",\"name\",\"orbiting_body\"], axis=1)"
   ]
  },
  {
   "cell_type": "code",
   "execution_count": 8,
   "metadata": {},
   "outputs": [
    {
     "data": {
      "text/plain": [
       "<Axes: >"
      ]
     },
     "execution_count": 8,
     "metadata": {},
     "output_type": "execute_result"
    },
    {
     "data": {
      "image/png": "[encoded data removed]",
      "text/plain": [
       "<Figure size 640x480 with 2 Axes>"
      ]
     },
     "metadata": {},
     "output_type": "display_data"
    }
   ],
   "source": [
    "#Matriz de correlação para ver quais atributos tem maior correlação com o atributo de interesse\n",
    "correlation_matrix = df.corr()\n",
    "mask = np.triu(np.ones_like(correlation_matrix, dtype=bool))\n",
    "sns.heatmap(correlation_matrix,mask = mask ,annot=True)"
   ]
  },
  {
   "cell_type": "code",
   "execution_count": 9,
   "metadata": {},
   "outputs": [],
   "source": [
    "#Mantendo variáveis que tem correlação maior que 0.1 com a variável de interesse\n",
    "threshold = 0.1\n",
    "columns_to_keep = correlation_matrix['hazardous'].abs() > threshold\n",
    "columns_to_keep['hazardous'] = True\n",
    "columns_to_keep = columns_to_keep[columns_to_keep].index\n",
    "df = df[columns_to_keep]"
   ]
  },
  {
   "cell_type": "code",
   "execution_count": 10,
   "metadata": {},
   "outputs": [
    {
     "data": {
      "text/plain": [
       "Index(['est_diameter_min', 'est_diameter_max', 'relative_velocity',\n",
       "       'absolute_magnitude', 'hazardous'],\n",
       "      dtype='object')"
      ]
     },
     "execution_count": 10,
     "metadata": {},
     "output_type": "execute_result"
    }
   ],
   "source": [
    "df.columns"
   ]
  },
  {
   "cell_type": "code",
   "execution_count": 11,
   "metadata": {},
   "outputs": [],
   "source": [
    "#A luminosidade do objeto não vai interferir na classificação, então vamos remover essa coluna\n",
    "#A coluna de estimativa de tamanho máximo também não é interesante, uma vez que já temos o tamanho mínimo do objeto\n",
    "df = df.drop([\"absolute_magnitude\",\"est_diameter_max\"], axis=1)"
   ]
  },
  {
   "cell_type": "code",
   "execution_count": 12,
   "metadata": {},
   "outputs": [
    {
     "data": {
      "image/png": "[encoded data removed]",
      "text/plain": [
       "<Figure size 500x500 with 2 Axes>"
      ]
     },
     "metadata": {},
     "output_type": "display_data"
    }
   ],
   "source": [
    "#Procurando por outliers\n",
    "numerical = df.select_dtypes(include=['int', 'float']).copy()\n",
    "rows, cols = 1,2\n",
    "cube_palette = sns.cubehelix_palette(gamma=.5)\n",
    "\n",
    "fig, axes = plt.subplots(rows, cols, figsize=(5, 5))\n",
    "axes = axes.flatten()\n",
    "\n",
    "for i, col in enumerate(numerical.columns):\n",
    "    if i < len(axes):\n",
    "        sns.boxplot(x=df[col], ax=axes[i], color=cube_palette[i % len(cube_palette)])\n",
    "        axes[i].set_title(col, fontsize=10)\n",
    "\n",
    "plt.tight_layout()\n",
    "plt.show()"
   ]
  },
  {
   "cell_type": "code",
   "execution_count": 13,
   "metadata": {},
   "outputs": [],
   "source": [
    "# Como pôde ser visto no output da célula anterior, temos outliers nas colunas 'est_diameter_min' e 'relative_velocity'\n",
    "# Os valores serão removidos pela função abaixo\n",
    "def handle_outliers(df, columns):\n",
    "    \n",
    "    \"\"\" Remove outliers do dataframe \"\"\"\n",
    "\n",
    "    for column in columns:\n",
    "        Q1 = df[column].quantile(0.25)\n",
    "        Q3 = df[column].quantile(0.75)\n",
    "        IQR = Q3 - Q1\n",
    "\n",
    "        lower_bound = Q1 - 1.5 * IQR\n",
    "        upper_bound = Q3 + 1.5 * IQR\n",
    "        df[column] = df[column].clip(lower=lower_bound, upper=upper_bound)\n",
    "\n",
    "    return df\n",
    "\n",
    "columns_to_handel= ['est_diameter_min','relative_velocity']\n",
    "data = handle_outliers(df, columns_to_handel)"
   ]
  },
  {
   "cell_type": "markdown",
   "metadata": {},
   "source": [
    "### Modelagem"
   ]
  },
  {
   "cell_type": "markdown",
   "metadata": {},
   "source": [
    "#### Treino e validação do modelo"
   ]
  },
  {
   "cell_type": "code",
   "execution_count": 14,
   "metadata": {},
   "outputs": [],
   "source": [
    "# Separando o dataset em treino e teste\n",
    "target = df.hazardous.astype(int)\n",
    "\n",
    "test_size = 0.20\n",
    "seed = 10\n",
    "\n",
    "X = data.drop(\"hazardous\",axis=1)\n",
    "y = target\n",
    "\n",
    "X_train, X_test, y_train, y_test = train_test_split(X, y, test_size = test_size, random_state = seed, stratify = y)\n",
    "\n",
    "scoring = \"accuracy\"\n",
    "num_particoes = 10\n",
    "kfold = StratifiedKFold(n_splits=num_particoes, shuffle=True, random_state=seed)"
   ]
  },
  {
   "cell_type": "code",
   "execution_count": 15,
   "metadata": {},
   "outputs": [],
   "source": [
    "def evaluate(to_eval, X_train, y_train, kfold, scoring):\n",
    "    \"\"\"\n",
    "    Função para avaliar modelos de machine learning\n",
    "\n",
    "    Parâmetros:\n",
    "        to_eval: lista de tuplas contendo o nome do modelo e o modelo ou pipeline a ser avaliado\n",
    "        X_train: features de treino\n",
    "        y_train: target de treino\n",
    "        kfold: objeto de validação cruzada\n",
    "        scoring: métrica de avaliação\n",
    "    \"\"\"\n",
    "    results = []\n",
    "    names = []\n",
    "    for name, model_or_pipeline in to_eval:\n",
    "        cv_results = cross_val_score(model_or_pipeline, X_train, y_train, cv=kfold, scoring=scoring)\n",
    "        results.append(cv_results)\n",
    "        names.append(name)\n",
    "        msg = \"%s: %f (%f)\" % (name, cv_results.mean(), cv_results.std())\n",
    "        print(msg)\n",
    "    return results, names\n",
    "\n",
    "def create_pipelines(models, scalers, dataset_types):\n",
    "    \"\"\"\n",
    "    Cria pipelines para rodar modelos com diferentes tipos de datasets\n",
    "\n",
    "    Parâmetros:\n",
    "        models: lista de tuplas contendo o nome do modelo e o modelo\n",
    "        scalers: lista de tuplas contendo o nome do scaler e o scaler\n",
    "        dataset_types: lista contendo os tipos de dataset a serem avaliados\n",
    "    \"\"\"\n",
    "    pipelines = []\n",
    "    for dataset_type in dataset_types:\n",
    "        if dataset_type == 'original':\n",
    "            # Dados originais (sem scaler)\n",
    "            pipelines.extend([(f'{model[0]}-orig', Pipeline([model])) for model in models])\n",
    "\n",
    "        elif dataset_type == 'padronizado':\n",
    "            # Dados padronizados\n",
    "            pipelines.extend([(f'{model[0]}-padr', Pipeline([scalers[0], model])) for model in models])\n",
    "        \n",
    "        elif dataset_type == 'normalizado':\n",
    "            # Dados normalizados\n",
    "            pipelines.extend([(f'{model[0]}-norm', Pipeline([scalers[1], model])) for model in models])\n",
    "    return pipelines"
   ]
  },
  {
   "cell_type": "code",
   "execution_count": 16,
   "metadata": {},
   "outputs": [
    {
     "name": "stdout",
     "output_type": "stream",
     "text": [
      "KNN-orig: 0.893791 (0.001331)\n",
      "CART-orig: 0.884736 (0.002538)\n",
      "NB-orig: 0.902681 (0.000054)\n",
      "SVM-orig: 0.902681 (0.000054)\n",
      "KNN-padr: 0.889663 (0.002960)\n",
      "CART-padr: 0.884722 (0.002382)\n",
      "NB-padr: 0.860296 (0.004451)\n",
      "SVM-padr: 0.902681 (0.000054)\n",
      "KNN-norm: 0.890736 (0.002412)\n",
      "CART-norm: 0.884626 (0.002394)\n",
      "NB-norm: 0.860296 (0.004451)\n",
      "SVM-norm: 0.902681 (0.000054)\n"
     ]
    },
    {
     "data": {
      "image/png": "[encoded data removed]",
      "text/plain": [
       "<Figure size 1500x1000 with 1 Axes>"
      ]
     },
     "metadata": {},
     "output_type": "display_data"
    }
   ],
   "source": [
    "np.random.seed(10)\n",
    "\n",
    "#definindo os tipos de modelos que serão avaliados e criando uma lista com eles\n",
    "\n",
    "knn = ('KNN', KNeighborsClassifier())\n",
    "cart = ('CART', DecisionTreeClassifier())\n",
    "naive_bayes = ('NB', GaussianNB())\n",
    "svm = ('SVM', SVC())\n",
    "\n",
    "models = [knn, cart, naive_bayes, svm]\n",
    "\n",
    "#Steps para o pipeline usando dados padronizados e normalizados\n",
    "standard_scaler = ('StandardScaler', StandardScaler()) \n",
    "min_max_scaler = ('MinMaxScaler', MinMaxScaler())\n",
    "\n",
    "scalers = [standard_scaler, min_max_scaler]\n",
    "\n",
    "#Tipos de datasets que serão avaliados\n",
    "dataset_types = ['original', 'padronizado', 'normalizado']\n",
    "\n",
    "#Cria um pipeline para cada modelo e tipo de dataset\n",
    "pipelines = create_pipelines(models, scalers, dataset_types)\n",
    "\n",
    "results, names = evaluate(pipelines, X_train, y_train, kfold, scoring)\n",
    "\n",
    "fig = plt.figure(figsize=(15,10))\n",
    "fig.suptitle('Comparação dos Modelos - Dataset orginal, padronizado e normalizado')\n",
    "ax = fig.add_subplot(111)\n",
    "plt.boxplot(results)\n",
    "ax.set_xticklabels(names)\n",
    "plt.show()"
   ]
  },
  {
   "cell_type": "markdown",
   "metadata": {},
   "source": [
    "- Os modelos tiveram uma ótima acurácia, todos acima de 85% com destaque para o SVM que teve a maior acurácia entre eles, praticamente igual para os dados originais, normalizados e padronizados.\n",
    "- Destaque para o modelo de Naive Bayes que teve uma queda de performance com os dados tratados. Apenas esse modelo teve uma diferença significativa com os diferentes tratamentos nos dados."
   ]
  },
  {
   "cell_type": "markdown",
   "metadata": {},
   "source": [
    "Modelagem: Otimização de Hiper parâmetros"
   ]
  },
  {
   "cell_type": "code",
   "execution_count": 18,
   "metadata": {},
   "outputs": [
    {
     "name": "stdout",
     "output_type": "stream",
     "text": [
      "Melhor parâmetro para o modelo KNN-orig: {'KNN__metric': 'manhattan', 'KNN__n_neighbors': 11, 'KNN__weights': 'uniform'} com acurácia de 0.9019375659515463\n",
      "Melhor parâmetro para o modelo CART-orig: {'CART__criterion': 'gini', 'CART__max_depth': 10, 'CART__min_samples_leaf': 4, 'CART__min_samples_split': 5} com acurácia de 0.9035889439991521\n",
      "Melhor parâmetro para o modelo NB-orig: {'NB__var_smoothing': 1e-09} com acurácia de 0.9026806852207289\n",
      "Melhor parâmetro para o modelo SVM-orig: {'SVM__C': 0.1, 'SVM__kernel': 'rbf'} com acurácia de 0.9026806852207289\n"
     ]
    }
   ],
   "source": [
    "#Definição dos parâmetros para o GridSearch\n",
    "param_grids = {\n",
    "            'KNN': {\n",
    "                'KNN__n_neighbors': [3, 5, 7, 9, 11],\n",
    "                'KNN__metric': ['euclidean', 'manhattan', 'minkowski'],\n",
    "                'KNN__weights': ['uniform', 'distance']\n",
    "\n",
    "            },\n",
    "            'CART': {\n",
    "                'CART__criterion': ['gini', 'entropy'],\n",
    "                'CART__max_depth': [None, 10, 20, 30],\n",
    "                'CART__min_samples_split': [2, 5, 10],\n",
    "                'CART__min_samples_leaf': [1, 2, 4]\n",
    "            },\n",
    "            'NB': {\n",
    "                'NB__var_smoothing': [1e-9, 1e-8, 1e-7, 1e-6]\n",
    "            },\n",
    "            'SVM': {\n",
    "                'SVM__C': [0.1, 1, 10],\n",
    "                'SVM__kernel': ['rbf'],\n",
    "            }\n",
    "        }\n",
    "\n",
    "#usando apenas os dados originais\n",
    "# pipelines_orig = [(name, model) for name, model in pipelines if '-orig' in name]\n",
    "for name, model in pipelines:\n",
    "    model_name = name.split('-')[0]\n",
    "    gs = GridSearchCV(estimator=model, param_grid=param_grids[model_name], cv=kfold, scoring=scoring)\n",
    "    gs.fit(X_train, y_train)\n",
    "    print(f'Melhor parâmetro para o modelo {name}: {gs.best_params_} com acurácia de {gs.best_score_}')"
   ]
  },
  {
   "cell_type": "code",
   "execution_count": null,
   "metadata": {},
   "outputs": [],
   "source": []
  }
 ],
 "metadata": {
  "kernelspec": {
   "display_name": "mvp-model-fullstack-JdJanWHs-py3.11",
   "language": "python",
   "name": "python3"
  },
  "language_info": {
   "codemirror_mode": {
    "name": "ipython",
    "version": 3
   },
   "file_extension": ".py",
   "mimetype": "text/x-python",
   "name": "python",
   "nbconvert_exporter": "python",
   "pygments_lexer": "ipython3",
   "version": "3.11.3"
  }
 },
 "nbformat": 4,
 "nbformat_minor": 2
}
